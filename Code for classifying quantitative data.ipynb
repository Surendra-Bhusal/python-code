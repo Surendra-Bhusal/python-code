{
  "nbformat": 4,
  "nbformat_minor": 0,
  "metadata": {
    "colab": {
      "provenance": []
    },
    "kernelspec": {
      "name": "python3",
      "display_name": "Python 3"
    },
    "language_info": {
      "name": "python"
    }
  },
  "cells": [
    {
      "cell_type": "code",
      "execution_count": null,
      "metadata": {
        "id": "KgDiOAzUYrS3"
      },
      "outputs": [],
      "source": [
        "dictionary = dict(zip(mydata['patient_ID'], mydata ['Type of surgery']))\n",
        "from difflib import SequenceMatcher\n",
        "\n",
        "def match_score(word1, word2):\n",
        "    return SequenceMatcher(None, str(word1), str(word2)).ratio()\n",
        "\n",
        "items = list(dictionary.items())\n",
        "\n",
        "ordered_items = [items.pop(0)]\n",
        "\n",
        "while items:\n",
        "    last_item = ordered_items[-1]\n",
        "    next_item = max(items, key=lambda item: match_score(last_item[1], item[1]))\n",
        "    ordered_items.append(next_item)\n",
        "    items.remove(next_item)\n",
        "\n",
        "ordered_dict = dict(ordered_items)\n",
        "\n",
        "df = pd.DataFrame(list(ordered_dict.items()), columns=['Patient_ID', 'Type_of_Surgery'])\n",
        "import os\n",
        "desktop_path = os.path.join(os.path.expanduser(\"~\"),\"/content/sample_data\")\n",
        "excel_file_path = os.path.join(desktop_path, 'classified_data.xlsx')\n",
        "df.to_excel(excel_file_path, index=False)"
      ]
    }
  ]
}